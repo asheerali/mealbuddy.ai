{
 "cells": [
  {
   "cell_type": "code",
   "execution_count": 1,
   "id": "c714217d",
   "metadata": {},
   "outputs": [
    {
     "name": "stdout",
     "output_type": "stream",
     "text": [
      "hello\n"
     ]
    }
   ],
   "source": [
    "print(\"hello\")"
   ]
  },
  {
   "cell_type": "code",
   "execution_count": 10,
   "id": "72d33b4f",
   "metadata": {},
   "outputs": [
    {
     "name": "stdout",
     "output_type": "stream",
     "text": [
      "{'message': 'Hello!', 'response': 'Echo: Hello!'}\n"
     ]
    }
   ],
   "source": [
    "from langgraph.graph import StateGraph\n",
    "from typing import TypedDict\n",
    "\n",
    "# 1️⃣ Define the schema for the state\n",
    "class MyState(TypedDict):\n",
    "    message: str\n",
    "    response: str\n",
    "\n",
    "# 2️⃣ Define your node function\n",
    "def reply_node(state: MyState) -> MyState:\n",
    "    message = state[\"message\"]\n",
    "    state[\"response\"] = f\"Echo: {message}\"\n",
    "    return state\n",
    "\n",
    "# 3️⃣ Create the graph with the schema\n",
    "graph = StateGraph(MyState)\n",
    "\n",
    "# 4️⃣ Add a single node and set entry + finish points\n",
    "graph.add_node(\"reply\", reply_node)\n",
    "graph.set_entry_point(\"reply\")\n",
    "graph.set_finish_point(\"reply\")\n",
    "\n",
    "# 5️⃣ Compile the graph and run it\n",
    "app = graph.compile()\n",
    "\n",
    "# 6️⃣ Run the graph with initial state\n",
    "initial_state = {\"message\": \"Hello!\", \"response\": \"\"}\n",
    "result = app.invoke(initial_state)\n",
    "print(result)\n"
   ]
  },
  {
   "cell_type": "code",
   "execution_count": null,
   "id": "d1b40894",
   "metadata": {},
   "outputs": [],
   "source": []
  },
  {
   "cell_type": "code",
   "execution_count": null,
   "id": "b2d1a1a4",
   "metadata": {},
   "outputs": [],
   "source": []
  }
 ],
 "metadata": {
  "kernelspec": {
   "display_name": "mealbuddy",
   "language": "python",
   "name": "python3"
  },
  "language_info": {
   "codemirror_mode": {
    "name": "ipython",
    "version": 3
   },
   "file_extension": ".py",
   "mimetype": "text/x-python",
   "name": "python",
   "nbconvert_exporter": "python",
   "pygments_lexer": "ipython3",
   "version": "3.10.0"
  }
 },
 "nbformat": 4,
 "nbformat_minor": 5
}
